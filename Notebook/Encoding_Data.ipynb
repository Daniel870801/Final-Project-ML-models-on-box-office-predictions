{
  "cells": [
    {
      "cell_type": "code",
      "execution_count": 100,
      "id": "a9158272",
      "metadata": {
        "id": "a9158272"
      },
      "outputs": [],
      "source": [
        "import pandas as pd\n",
        "import numpy as np"
      ]
    },
    {
      "cell_type": "code",
      "execution_count": 101,
      "id": "0797f550",
      "metadata": {
        "id": "0797f550"
      },
      "outputs": [],
      "source": [
        "df=pd.read_csv(r'dataset_final.csv',index_col='global_rank')"
      ]
    },
    {
      "cell_type": "code",
      "execution_count": 102,
      "id": "eb294b11",
      "metadata": {
        "id": "eb294b11"
      },
      "outputs": [],
      "source": [
        "df.drop('Unnamed: 0',axis=1,inplace=True)"
      ]
    },
    {
      "cell_type": "code",
      "execution_count": 103,
      "id": "06e08b65",
      "metadata": {
        "id": "06e08b65"
      },
      "outputs": [],
      "source": [
        "df.release_date=pd.to_datetime(df.release_date)"
      ]
    },
    {
      "cell_type": "code",
      "execution_count": 104,
      "id": "447b5310",
      "metadata": {
        "colab": {
          "base_uri": "https://localhost:8080/"
        },
        "id": "447b5310",
        "outputId": "c742a539-f678-47e2-83fa-73575dbf5f2e"
      },
      "outputs": [
        {
          "output_type": "execute_result",
          "data": {
            "text/plain": [
              "Index(['title', 'id', 'release_date', 'day', 'month', 'year',\n",
              "       'max_theaters_used', 'first_day_sales', 'first_weekend_sales',\n",
              "       'first_week_sales', 'total_sales', 'viewers_by_theaters', 'tmdb_id',\n",
              "       'budget', 'imdb_id', 'original_language', 'original_title', 'tagline',\n",
              "       'cast1', 'cast1_popularity', 'cast2', 'cast2_popularity', 'cast3',\n",
              "       'cast3_popularity', 'cast_popularity', 'genre1'],\n",
              "      dtype='object')"
            ]
          },
          "metadata": {},
          "execution_count": 104
        }
      ],
      "source": [
        "df.columns"
      ]
    },
    {
      "cell_type": "code",
      "execution_count": 105,
      "id": "16ad4d26",
      "metadata": {
        "id": "16ad4d26"
      },
      "outputs": [],
      "source": [
        "df=df.loc[df['max_theaters_used']>0]"
      ]
    },
    {
      "cell_type": "code",
      "execution_count": 106,
      "id": "299be0e3",
      "metadata": {
        "id": "299be0e3"
      },
      "outputs": [],
      "source": [
        "df.drop('original_title',axis=1,inplace=True)"
      ]
    },
    {
      "cell_type": "code",
      "execution_count": 107,
      "id": "4c1ce76c",
      "metadata": {
        "colab": {
          "base_uri": "https://localhost:8080/",
          "height": 300
        },
        "id": "4c1ce76c",
        "outputId": "18294e6f-6077-4d14-c592-91c829ded74c"
      },
      "outputs": [
        {
          "output_type": "execute_result",
          "data": {
            "text/plain": [
              "       max_theaters_used   total_sales  viewers_by_theaters\n",
              "count        3958.000000  3.958000e+03          3958.000000\n",
              "mean          239.103588  4.918189e+05          1981.812026\n",
              "std           213.329960  9.749780e+05         11812.947421\n",
              "min             1.000000  3.500000e+01            11.000000\n",
              "25%            65.000000  4.829375e+04           608.250000\n",
              "50%           178.000000  1.450145e+05          1019.000000\n",
              "75%           353.750000  4.791810e+05          1770.500000\n",
              "max          1205.000000  1.949069e+07        425480.000000"
            ],
            "text/html": [
              "\n",
              "  <div id=\"df-dd5b7a0a-08bb-404a-b40c-064b1a95a424\">\n",
              "    <div class=\"colab-df-container\">\n",
              "      <div>\n",
              "<style scoped>\n",
              "    .dataframe tbody tr th:only-of-type {\n",
              "        vertical-align: middle;\n",
              "    }\n",
              "\n",
              "    .dataframe tbody tr th {\n",
              "        vertical-align: top;\n",
              "    }\n",
              "\n",
              "    .dataframe thead th {\n",
              "        text-align: right;\n",
              "    }\n",
              "</style>\n",
              "<table border=\"1\" class=\"dataframe\">\n",
              "  <thead>\n",
              "    <tr style=\"text-align: right;\">\n",
              "      <th></th>\n",
              "      <th>max_theaters_used</th>\n",
              "      <th>total_sales</th>\n",
              "      <th>viewers_by_theaters</th>\n",
              "    </tr>\n",
              "  </thead>\n",
              "  <tbody>\n",
              "    <tr>\n",
              "      <th>count</th>\n",
              "      <td>3958.000000</td>\n",
              "      <td>3.958000e+03</td>\n",
              "      <td>3958.000000</td>\n",
              "    </tr>\n",
              "    <tr>\n",
              "      <th>mean</th>\n",
              "      <td>239.103588</td>\n",
              "      <td>4.918189e+05</td>\n",
              "      <td>1981.812026</td>\n",
              "    </tr>\n",
              "    <tr>\n",
              "      <th>std</th>\n",
              "      <td>213.329960</td>\n",
              "      <td>9.749780e+05</td>\n",
              "      <td>11812.947421</td>\n",
              "    </tr>\n",
              "    <tr>\n",
              "      <th>min</th>\n",
              "      <td>1.000000</td>\n",
              "      <td>3.500000e+01</td>\n",
              "      <td>11.000000</td>\n",
              "    </tr>\n",
              "    <tr>\n",
              "      <th>25%</th>\n",
              "      <td>65.000000</td>\n",
              "      <td>4.829375e+04</td>\n",
              "      <td>608.250000</td>\n",
              "    </tr>\n",
              "    <tr>\n",
              "      <th>50%</th>\n",
              "      <td>178.000000</td>\n",
              "      <td>1.450145e+05</td>\n",
              "      <td>1019.000000</td>\n",
              "    </tr>\n",
              "    <tr>\n",
              "      <th>75%</th>\n",
              "      <td>353.750000</td>\n",
              "      <td>4.791810e+05</td>\n",
              "      <td>1770.500000</td>\n",
              "    </tr>\n",
              "    <tr>\n",
              "      <th>max</th>\n",
              "      <td>1205.000000</td>\n",
              "      <td>1.949069e+07</td>\n",
              "      <td>425480.000000</td>\n",
              "    </tr>\n",
              "  </tbody>\n",
              "</table>\n",
              "</div>\n",
              "      <button class=\"colab-df-convert\" onclick=\"convertToInteractive('df-dd5b7a0a-08bb-404a-b40c-064b1a95a424')\"\n",
              "              title=\"Convert this dataframe to an interactive table.\"\n",
              "              style=\"display:none;\">\n",
              "        \n",
              "  <svg xmlns=\"http://www.w3.org/2000/svg\" height=\"24px\"viewBox=\"0 0 24 24\"\n",
              "       width=\"24px\">\n",
              "    <path d=\"M0 0h24v24H0V0z\" fill=\"none\"/>\n",
              "    <path d=\"M18.56 5.44l.94 2.06.94-2.06 2.06-.94-2.06-.94-.94-2.06-.94 2.06-2.06.94zm-11 1L8.5 8.5l.94-2.06 2.06-.94-2.06-.94L8.5 2.5l-.94 2.06-2.06.94zm10 10l.94 2.06.94-2.06 2.06-.94-2.06-.94-.94-2.06-.94 2.06-2.06.94z\"/><path d=\"M17.41 7.96l-1.37-1.37c-.4-.4-.92-.59-1.43-.59-.52 0-1.04.2-1.43.59L10.3 9.45l-7.72 7.72c-.78.78-.78 2.05 0 2.83L4 21.41c.39.39.9.59 1.41.59.51 0 1.02-.2 1.41-.59l7.78-7.78 2.81-2.81c.8-.78.8-2.07 0-2.86zM5.41 20L4 18.59l7.72-7.72 1.47 1.35L5.41 20z\"/>\n",
              "  </svg>\n",
              "      </button>\n",
              "      \n",
              "  <style>\n",
              "    .colab-df-container {\n",
              "      display:flex;\n",
              "      flex-wrap:wrap;\n",
              "      gap: 12px;\n",
              "    }\n",
              "\n",
              "    .colab-df-convert {\n",
              "      background-color: #E8F0FE;\n",
              "      border: none;\n",
              "      border-radius: 50%;\n",
              "      cursor: pointer;\n",
              "      display: none;\n",
              "      fill: #1967D2;\n",
              "      height: 32px;\n",
              "      padding: 0 0 0 0;\n",
              "      width: 32px;\n",
              "    }\n",
              "\n",
              "    .colab-df-convert:hover {\n",
              "      background-color: #E2EBFA;\n",
              "      box-shadow: 0px 1px 2px rgba(60, 64, 67, 0.3), 0px 1px 3px 1px rgba(60, 64, 67, 0.15);\n",
              "      fill: #174EA6;\n",
              "    }\n",
              "\n",
              "    [theme=dark] .colab-df-convert {\n",
              "      background-color: #3B4455;\n",
              "      fill: #D2E3FC;\n",
              "    }\n",
              "\n",
              "    [theme=dark] .colab-df-convert:hover {\n",
              "      background-color: #434B5C;\n",
              "      box-shadow: 0px 1px 3px 1px rgba(0, 0, 0, 0.15);\n",
              "      filter: drop-shadow(0px 1px 2px rgba(0, 0, 0, 0.3));\n",
              "      fill: #FFFFFF;\n",
              "    }\n",
              "  </style>\n",
              "\n",
              "      <script>\n",
              "        const buttonEl =\n",
              "          document.querySelector('#df-dd5b7a0a-08bb-404a-b40c-064b1a95a424 button.colab-df-convert');\n",
              "        buttonEl.style.display =\n",
              "          google.colab.kernel.accessAllowed ? 'block' : 'none';\n",
              "\n",
              "        async function convertToInteractive(key) {\n",
              "          const element = document.querySelector('#df-dd5b7a0a-08bb-404a-b40c-064b1a95a424');\n",
              "          const dataTable =\n",
              "            await google.colab.kernel.invokeFunction('convertToInteractive',\n",
              "                                                     [key], {});\n",
              "          if (!dataTable) return;\n",
              "\n",
              "          const docLinkHtml = 'Like what you see? Visit the ' +\n",
              "            '<a target=\"_blank\" href=https://colab.research.google.com/notebooks/data_table.ipynb>data table notebook</a>'\n",
              "            + ' to learn more about interactive tables.';\n",
              "          element.innerHTML = '';\n",
              "          dataTable['output_type'] = 'display_data';\n",
              "          await google.colab.output.renderOutput(dataTable, element);\n",
              "          const docLink = document.createElement('div');\n",
              "          docLink.innerHTML = docLinkHtml;\n",
              "          element.appendChild(docLink);\n",
              "        }\n",
              "      </script>\n",
              "    </div>\n",
              "  </div>\n",
              "  "
            ]
          },
          "metadata": {},
          "execution_count": 107
        }
      ],
      "source": [
        "df[['max_theaters_used','total_sales','viewers_by_theaters']].describe()"
      ]
    },
    {
      "cell_type": "code",
      "execution_count": 108,
      "id": "1a79a8f5",
      "metadata": {
        "id": "1a79a8f5"
      },
      "outputs": [],
      "source": [
        "#Let's label by total sales and viewers by theater, so as to assess the commercial success of a movie. We will attribute a grade from \n",
        "#1 to 5, and add both.\n",
        "\n",
        "bin_labels_5 =[1,2,3,4,5]\n",
        "df['success_abs'] = pd.qcut(df['total_sales'], q=5, labels=bin_labels_5)\n",
        "df['success_rel'] = pd.qcut(df['viewers_by_theaters'], q=5, labels=bin_labels_5)"
      ]
    },
    {
      "cell_type": "code",
      "execution_count": 109,
      "id": "b5b4e96c",
      "metadata": {
        "id": "b5b4e96c"
      },
      "outputs": [],
      "source": [
        "#in order to turn categorical to numerical\n",
        "df['success_rel'].replace([1,2,3,4,5], [1,2,3,4,5], inplace=True)\n",
        "df['success_abs'].replace([1,2,3,4,5], [1,2,3,4,5], inplace=True)"
      ]
    },
    {
      "cell_type": "code",
      "execution_count": 110,
      "id": "5e9cd759",
      "metadata": {
        "id": "5e9cd759"
      },
      "outputs": [],
      "source": [
        "df[\"success_total\"]=df['success_abs']+df['success_rel']"
      ]
    },
    {
      "cell_type": "code",
      "execution_count": 111,
      "id": "f342e7e5",
      "metadata": {
        "colab": {
          "base_uri": "https://localhost:8080/"
        },
        "id": "f342e7e5",
        "outputId": "8bccaa7f-1cb4-423b-a6c1-b0ea22acb130"
      },
      "outputs": [
        {
          "output_type": "stream",
          "name": "stdout",
          "text": [
            "<class 'pandas.core.frame.DataFrame'>\n",
            "Float64Index: 3958 entries, 1.0 to 3959.0\n",
            "Data columns (total 28 columns):\n",
            " #   Column               Non-Null Count  Dtype         \n",
            "---  ------               --------------  -----         \n",
            " 0   title                3958 non-null   object        \n",
            " 1   id                   3958 non-null   float64       \n",
            " 2   release_date         3958 non-null   datetime64[ns]\n",
            " 3   day                  3958 non-null   float64       \n",
            " 4   month                3958 non-null   float64       \n",
            " 5   year                 3958 non-null   float64       \n",
            " 6   max_theaters_used    3958 non-null   float64       \n",
            " 7   first_day_sales      3811 non-null   float64       \n",
            " 8   first_weekend_sales  3791 non-null   float64       \n",
            " 9   first_week_sales     3958 non-null   float64       \n",
            " 10  total_sales          3958 non-null   float64       \n",
            " 11  viewers_by_theaters  3958 non-null   float64       \n",
            " 12  tmdb_id              2351 non-null   float64       \n",
            " 13  budget               3958 non-null   float64       \n",
            " 14  imdb_id              2194 non-null   object        \n",
            " 15  original_language    3958 non-null   object        \n",
            " 16  tagline              841 non-null    object        \n",
            " 17  cast1                2181 non-null   object        \n",
            " 18  cast1_popularity     2181 non-null   float64       \n",
            " 19  cast2                2169 non-null   object        \n",
            " 20  cast2_popularity     2169 non-null   float64       \n",
            " 21  cast3                2158 non-null   object        \n",
            " 22  cast3_popularity     2158 non-null   float64       \n",
            " 23  cast_popularity      2158 non-null   float64       \n",
            " 24  genre1               2306 non-null   object        \n",
            " 25  success_abs          3958 non-null   int64         \n",
            " 26  success_rel          3958 non-null   int64         \n",
            " 27  success_total        3958 non-null   int64         \n",
            "dtypes: datetime64[ns](1), float64(16), int64(3), object(8)\n",
            "memory usage: 896.7+ KB\n"
          ]
        }
      ],
      "source": [
        "df.info()"
      ]
    },
    {
      "cell_type": "code",
      "execution_count": 112,
      "id": "039b0f2d",
      "metadata": {
        "colab": {
          "base_uri": "https://localhost:8080/"
        },
        "id": "039b0f2d",
        "outputId": "8faac4b6-2592-4659-815c-bc994fb0a17e"
      },
      "outputs": [
        {
          "output_type": "execute_result",
          "data": {
            "text/plain": [
              "10    569\n",
              "7     487\n",
              "5     469\n",
              "6     462\n",
              "2     456\n",
              "4     430\n",
              "3     413\n",
              "8     389\n",
              "9     283\n",
              "Name: success_total, dtype: int64"
            ]
          },
          "metadata": {},
          "execution_count": 112
        }
      ],
      "source": [
        "df.success_total.value_counts()"
      ]
    },
    {
      "cell_type": "code",
      "execution_count": 113,
      "id": "599961a1",
      "metadata": {
        "id": "599961a1"
      },
      "outputs": [],
      "source": [
        "bin_labels_4 =[1,2,3,4]\n",
        "df['hit_or_fail'] = pd.qcut(df['success_total'], q=4, labels=bin_labels_4)"
      ]
    },
    {
      "cell_type": "code",
      "execution_count": 114,
      "id": "b64e7b06",
      "metadata": {
        "colab": {
          "base_uri": "https://localhost:8080/"
        },
        "id": "b64e7b06",
        "outputId": "3ffc747a-f7c0-4108-982f-03dac5e5dc10"
      },
      "outputs": [
        {
          "output_type": "execute_result",
          "data": {
            "text/plain": [
              "global_rank\n",
              "1.0       4\n",
              "2.0       4\n",
              "3.0       4\n",
              "4.0       4\n",
              "5.0       4\n",
              "         ..\n",
              "3954.0    1\n",
              "3955.0    1\n",
              "3956.0    1\n",
              "3957.0    1\n",
              "3959.0    1\n",
              "Name: hit_or_fail, Length: 3958, dtype: category\n",
              "Categories (4, int64): [1 < 2 < 3 < 4]"
            ]
          },
          "metadata": {},
          "execution_count": 114
        }
      ],
      "source": [
        "df['hit_or_fail']"
      ]
    },
    {
      "cell_type": "code",
      "execution_count": 115,
      "id": "061f6140",
      "metadata": {
        "id": "061f6140"
      },
      "outputs": [],
      "source": [
        "main_languages=['en','fr']\n",
        "df['original_language']=df['original_language'].apply(lambda x: 'others' if x not in main_languages else x)"
      ]
    },
    {
      "cell_type": "code",
      "execution_count": 116,
      "id": "e3d2784f",
      "metadata": {
        "colab": {
          "base_uri": "https://localhost:8080/"
        },
        "id": "e3d2784f",
        "outputId": "8e2f1833-1982-4fef-fe20-d495040461d2"
      },
      "outputs": [
        {
          "output_type": "execute_result",
          "data": {
            "text/plain": [
              "Drama              796\n",
              "Comedy             561\n",
              "Action             191\n",
              "Thriller           108\n",
              "Animation          108\n",
              "Documentary         82\n",
              "Adventure           80\n",
              "Horror              70\n",
              "Crime               69\n",
              "Romance             58\n",
              "Family              42\n",
              "Science Fiction     40\n",
              "Fantasy             26\n",
              "Music               20\n",
              "War                 17\n",
              "Mystery             14\n",
              "History             14\n",
              "Western              9\n",
              "TV Movie             1\n",
              "Name: genre1, dtype: int64"
            ]
          },
          "metadata": {},
          "execution_count": 116
        }
      ],
      "source": [
        "df['genre1'].value_counts()"
      ]
    },
    {
      "cell_type": "code",
      "execution_count": 117,
      "id": "f3a3b96a",
      "metadata": {
        "colab": {
          "base_uri": "https://localhost:8080/",
          "height": 708
        },
        "id": "f3a3b96a",
        "outputId": "db7508eb-8e41-4d69-b91a-fdb008350d88"
      },
      "outputs": [
        {
          "output_type": "execute_result",
          "data": {
            "text/plain": [
              "                                                         title genre1\n",
              "global_rank                                                          \n",
              "23.0                                      Les Petits mouchoirs    NaN\n",
              "24.0         Les Aventures de Tintin : Le secret de la Licorne    NaN\n",
              "31.0                              Rogue One: A Star Wars Story    NaN\n",
              "51.0                          Les Nouvelles aventures d'Aladin    NaN\n",
              "88.0                    L'Age de glace : les lois de l'Univers    NaN\n",
              "145.0                                          Les Schtroumpfs    NaN\n",
              "157.0               Transformers 3 - La Face cachée de la Lune    NaN\n",
              "193.0                                               Les Croods    NaN\n",
              "194.0                     Transformers : l'âge de l'extinction    NaN\n",
              "208.0                                            Suicide Squad    NaN\n",
              "211.0                                        Les Schtroumpfs 2    NaN\n",
              "212.0                                De l’autre côté du périph    NaN\n",
              "217.0                                    Les Misérables (2019)    NaN\n",
              "218.0                   Prince of Persia : les sables du temps    NaN\n",
              "226.0                                         Insaisissables 2    NaN\n",
              "229.0                                             9 mois ferme    NaN\n",
              "233.0                                            Boule et Bill    NaN\n",
              "234.0                                    A Star is Born (2018)    NaN\n",
              "239.0                                     Bridget Jones's Baby    NaN\n",
              "240.0                            Expendables 2: unité spéciale    NaN"
            ],
            "text/html": [
              "\n",
              "  <div id=\"df-3f12d66f-df61-44e3-83b7-5d142cd05280\">\n",
              "    <div class=\"colab-df-container\">\n",
              "      <div>\n",
              "<style scoped>\n",
              "    .dataframe tbody tr th:only-of-type {\n",
              "        vertical-align: middle;\n",
              "    }\n",
              "\n",
              "    .dataframe tbody tr th {\n",
              "        vertical-align: top;\n",
              "    }\n",
              "\n",
              "    .dataframe thead th {\n",
              "        text-align: right;\n",
              "    }\n",
              "</style>\n",
              "<table border=\"1\" class=\"dataframe\">\n",
              "  <thead>\n",
              "    <tr style=\"text-align: right;\">\n",
              "      <th></th>\n",
              "      <th>title</th>\n",
              "      <th>genre1</th>\n",
              "    </tr>\n",
              "    <tr>\n",
              "      <th>global_rank</th>\n",
              "      <th></th>\n",
              "      <th></th>\n",
              "    </tr>\n",
              "  </thead>\n",
              "  <tbody>\n",
              "    <tr>\n",
              "      <th>23.0</th>\n",
              "      <td>Les Petits mouchoirs</td>\n",
              "      <td>NaN</td>\n",
              "    </tr>\n",
              "    <tr>\n",
              "      <th>24.0</th>\n",
              "      <td>Les Aventures de Tintin : Le secret de la Licorne</td>\n",
              "      <td>NaN</td>\n",
              "    </tr>\n",
              "    <tr>\n",
              "      <th>31.0</th>\n",
              "      <td>Rogue One: A Star Wars Story</td>\n",
              "      <td>NaN</td>\n",
              "    </tr>\n",
              "    <tr>\n",
              "      <th>51.0</th>\n",
              "      <td>Les Nouvelles aventures d'Aladin</td>\n",
              "      <td>NaN</td>\n",
              "    </tr>\n",
              "    <tr>\n",
              "      <th>88.0</th>\n",
              "      <td>L'Age de glace : les lois de l'Univers</td>\n",
              "      <td>NaN</td>\n",
              "    </tr>\n",
              "    <tr>\n",
              "      <th>145.0</th>\n",
              "      <td>Les Schtroumpfs</td>\n",
              "      <td>NaN</td>\n",
              "    </tr>\n",
              "    <tr>\n",
              "      <th>157.0</th>\n",
              "      <td>Transformers 3 - La Face cachée de la Lune</td>\n",
              "      <td>NaN</td>\n",
              "    </tr>\n",
              "    <tr>\n",
              "      <th>193.0</th>\n",
              "      <td>Les Croods</td>\n",
              "      <td>NaN</td>\n",
              "    </tr>\n",
              "    <tr>\n",
              "      <th>194.0</th>\n",
              "      <td>Transformers : l'âge de l'extinction</td>\n",
              "      <td>NaN</td>\n",
              "    </tr>\n",
              "    <tr>\n",
              "      <th>208.0</th>\n",
              "      <td>Suicide Squad</td>\n",
              "      <td>NaN</td>\n",
              "    </tr>\n",
              "    <tr>\n",
              "      <th>211.0</th>\n",
              "      <td>Les Schtroumpfs 2</td>\n",
              "      <td>NaN</td>\n",
              "    </tr>\n",
              "    <tr>\n",
              "      <th>212.0</th>\n",
              "      <td>De l’autre côté du périph</td>\n",
              "      <td>NaN</td>\n",
              "    </tr>\n",
              "    <tr>\n",
              "      <th>217.0</th>\n",
              "      <td>Les Misérables (2019)</td>\n",
              "      <td>NaN</td>\n",
              "    </tr>\n",
              "    <tr>\n",
              "      <th>218.0</th>\n",
              "      <td>Prince of Persia : les sables du temps</td>\n",
              "      <td>NaN</td>\n",
              "    </tr>\n",
              "    <tr>\n",
              "      <th>226.0</th>\n",
              "      <td>Insaisissables 2</td>\n",
              "      <td>NaN</td>\n",
              "    </tr>\n",
              "    <tr>\n",
              "      <th>229.0</th>\n",
              "      <td>9 mois ferme</td>\n",
              "      <td>NaN</td>\n",
              "    </tr>\n",
              "    <tr>\n",
              "      <th>233.0</th>\n",
              "      <td>Boule et Bill</td>\n",
              "      <td>NaN</td>\n",
              "    </tr>\n",
              "    <tr>\n",
              "      <th>234.0</th>\n",
              "      <td>A Star is Born (2018)</td>\n",
              "      <td>NaN</td>\n",
              "    </tr>\n",
              "    <tr>\n",
              "      <th>239.0</th>\n",
              "      <td>Bridget Jones's Baby</td>\n",
              "      <td>NaN</td>\n",
              "    </tr>\n",
              "    <tr>\n",
              "      <th>240.0</th>\n",
              "      <td>Expendables 2: unité spéciale</td>\n",
              "      <td>NaN</td>\n",
              "    </tr>\n",
              "  </tbody>\n",
              "</table>\n",
              "</div>\n",
              "      <button class=\"colab-df-convert\" onclick=\"convertToInteractive('df-3f12d66f-df61-44e3-83b7-5d142cd05280')\"\n",
              "              title=\"Convert this dataframe to an interactive table.\"\n",
              "              style=\"display:none;\">\n",
              "        \n",
              "  <svg xmlns=\"http://www.w3.org/2000/svg\" height=\"24px\"viewBox=\"0 0 24 24\"\n",
              "       width=\"24px\">\n",
              "    <path d=\"M0 0h24v24H0V0z\" fill=\"none\"/>\n",
              "    <path d=\"M18.56 5.44l.94 2.06.94-2.06 2.06-.94-2.06-.94-.94-2.06-.94 2.06-2.06.94zm-11 1L8.5 8.5l.94-2.06 2.06-.94-2.06-.94L8.5 2.5l-.94 2.06-2.06.94zm10 10l.94 2.06.94-2.06 2.06-.94-2.06-.94-.94-2.06-.94 2.06-2.06.94z\"/><path d=\"M17.41 7.96l-1.37-1.37c-.4-.4-.92-.59-1.43-.59-.52 0-1.04.2-1.43.59L10.3 9.45l-7.72 7.72c-.78.78-.78 2.05 0 2.83L4 21.41c.39.39.9.59 1.41.59.51 0 1.02-.2 1.41-.59l7.78-7.78 2.81-2.81c.8-.78.8-2.07 0-2.86zM5.41 20L4 18.59l7.72-7.72 1.47 1.35L5.41 20z\"/>\n",
              "  </svg>\n",
              "      </button>\n",
              "      \n",
              "  <style>\n",
              "    .colab-df-container {\n",
              "      display:flex;\n",
              "      flex-wrap:wrap;\n",
              "      gap: 12px;\n",
              "    }\n",
              "\n",
              "    .colab-df-convert {\n",
              "      background-color: #E8F0FE;\n",
              "      border: none;\n",
              "      border-radius: 50%;\n",
              "      cursor: pointer;\n",
              "      display: none;\n",
              "      fill: #1967D2;\n",
              "      height: 32px;\n",
              "      padding: 0 0 0 0;\n",
              "      width: 32px;\n",
              "    }\n",
              "\n",
              "    .colab-df-convert:hover {\n",
              "      background-color: #E2EBFA;\n",
              "      box-shadow: 0px 1px 2px rgba(60, 64, 67, 0.3), 0px 1px 3px 1px rgba(60, 64, 67, 0.15);\n",
              "      fill: #174EA6;\n",
              "    }\n",
              "\n",
              "    [theme=dark] .colab-df-convert {\n",
              "      background-color: #3B4455;\n",
              "      fill: #D2E3FC;\n",
              "    }\n",
              "\n",
              "    [theme=dark] .colab-df-convert:hover {\n",
              "      background-color: #434B5C;\n",
              "      box-shadow: 0px 1px 3px 1px rgba(0, 0, 0, 0.15);\n",
              "      filter: drop-shadow(0px 1px 2px rgba(0, 0, 0, 0.3));\n",
              "      fill: #FFFFFF;\n",
              "    }\n",
              "  </style>\n",
              "\n",
              "      <script>\n",
              "        const buttonEl =\n",
              "          document.querySelector('#df-3f12d66f-df61-44e3-83b7-5d142cd05280 button.colab-df-convert');\n",
              "        buttonEl.style.display =\n",
              "          google.colab.kernel.accessAllowed ? 'block' : 'none';\n",
              "\n",
              "        async function convertToInteractive(key) {\n",
              "          const element = document.querySelector('#df-3f12d66f-df61-44e3-83b7-5d142cd05280');\n",
              "          const dataTable =\n",
              "            await google.colab.kernel.invokeFunction('convertToInteractive',\n",
              "                                                     [key], {});\n",
              "          if (!dataTable) return;\n",
              "\n",
              "          const docLinkHtml = 'Like what you see? Visit the ' +\n",
              "            '<a target=\"_blank\" href=https://colab.research.google.com/notebooks/data_table.ipynb>data table notebook</a>'\n",
              "            + ' to learn more about interactive tables.';\n",
              "          element.innerHTML = '';\n",
              "          dataTable['output_type'] = 'display_data';\n",
              "          await google.colab.output.renderOutput(dataTable, element);\n",
              "          const docLink = document.createElement('div');\n",
              "          docLink.innerHTML = docLinkHtml;\n",
              "          element.appendChild(docLink);\n",
              "        }\n",
              "      </script>\n",
              "    </div>\n",
              "  </div>\n",
              "  "
            ]
          },
          "metadata": {},
          "execution_count": 117
        }
      ],
      "source": [
        "df.loc[df.genre1.isna()==True][['title','genre1']].head(20)"
      ]
    },
    {
      "cell_type": "code",
      "execution_count": 118,
      "id": "44f28b30",
      "metadata": {
        "id": "44f28b30"
      },
      "outputs": [],
      "source": [
        "df.loc[23,'genre1']='Drama'\n",
        "df.loc[24,'genre1']='Action'\n",
        "df.loc[51,'genre1']='Comedy'\n",
        "df.loc[31,'genre1']='Science Fiction'\n",
        "df.loc[88,'genre1']='Animation'\n",
        "df.loc[145,'genre1']='Animation'\n",
        "df.loc[193,'genre1']='Animation'\n",
        "df.loc[194,'genre1']='Action'\n",
        "df.loc[208,'genre1']='Action'\n",
        "df.loc[211,'genre1']='Animation'\n",
        "df.loc[212,'genre1']='Comedy'\n",
        "df.loc[217,'genre1']='Drama'\n",
        "df.loc[218,'genre1']='Action'\n",
        "df.loc[226,'genre1']='Action'\n",
        "df.loc[229,'genre1']='Comedy'\n",
        "df.loc[233,'genre1']='Comedy'\n",
        "df.loc[234,'genre1']='Romance'\n",
        "df.loc[239,'genre1']='Romance'\n",
        "df.loc[255,'genre1']='Thriller'\n",
        "df.loc[282,'genre1']='Western'\n",
        "df.loc[266,'genre1']='Romance'\n",
        "df.loc[157,'genre1']='Action'\n",
        "df.loc[240,'genre1']='Action'\n",
        "df.loc[276,'genre1']='Animation'\n",
        "df.loc[277,'genre1']='Comedy'\n",
        "df.loc[292,'genre1']='Action'"
      ]
    },
    {
      "cell_type": "code",
      "execution_count": 119,
      "id": "ffaa78a0",
      "metadata": {
        "colab": {
          "base_uri": "https://localhost:8080/",
          "height": 695
        },
        "id": "ffaa78a0",
        "outputId": "15ede501-df32-468d-8057-ba474a2f6779"
      },
      "outputs": [
        {
          "output_type": "execute_result",
          "data": {
            "text/plain": [
              "                                                         title       id  \\\n",
              "global_rank                                                               \n",
              "3.0                           Star Wars: Le Réveil de la Force  13345.0   \n",
              "4.0                                         Le Roi Lion (2019)  17528.0   \n",
              "7.0                                      La Reine des neiges 2  17530.0   \n",
              "8.0                               Star Wars: Les derniers Jedi  15113.0   \n",
              "14.0         Harry Potter et les reliques de la mort - part...  10193.0   \n",
              "\n",
              "            release_date   day  month    year  max_theaters_used  \\\n",
              "global_rank                                                        \n",
              "3.0           2015-12-16  16.0   12.0  2015.0             1093.0   \n",
              "4.0           2019-07-17  17.0    7.0  2019.0              820.0   \n",
              "7.0           2019-11-20  20.0   11.0  2019.0             1020.0   \n",
              "8.0           2017-12-13  13.0   12.0  2017.0             1027.0   \n",
              "14.0          2011-07-13  13.0    7.0  2011.0              833.0   \n",
              "\n",
              "             first_day_sales  first_weekend_sales  first_week_sales  ...  \\\n",
              "global_rank                                                          ...   \n",
              "3.0                 619020.0            2705096.0         3801235.0  ...   \n",
              "4.0                 630478.0            2559370.0         3252896.0  ...   \n",
              "7.0                 361818.0            1979782.0         2137267.0  ...   \n",
              "8.0                 503727.0            2188853.0         2510462.0  ...   \n",
              "14.0                732206.0            2532629.0         3129485.0  ...   \n",
              "\n",
              "             cast2  cast2_popularity  cast3  cast3_popularity cast_popularity  \\\n",
              "global_rank                                                                     \n",
              "3.0            NaN               NaN    NaN               NaN             NaN   \n",
              "4.0            NaN               NaN    NaN               NaN             NaN   \n",
              "7.0            NaN               NaN    NaN               NaN             NaN   \n",
              "8.0            NaN               NaN    NaN               NaN             NaN   \n",
              "14.0           NaN               NaN    NaN               NaN             NaN   \n",
              "\n",
              "                      genre1 success_abs success_rel  success_total  \\\n",
              "global_rank                                                           \n",
              "3.0                   Action           5           5             10   \n",
              "4.0                Adventure           5           5             10   \n",
              "7.0                   Family           5           5             10   \n",
              "8.0          Science Fiction           5           5             10   \n",
              "14.0               Adventure           5           5             10   \n",
              "\n",
              "            hit_or_fail  \n",
              "global_rank              \n",
              "3.0                   4  \n",
              "4.0                   4  \n",
              "7.0                   4  \n",
              "8.0                   4  \n",
              "14.0                  4  \n",
              "\n",
              "[5 rows x 29 columns]"
            ],
            "text/html": [
              "\n",
              "  <div id=\"df-128a58e5-f611-47bf-9a55-7f067896a091\">\n",
              "    <div class=\"colab-df-container\">\n",
              "      <div>\n",
              "<style scoped>\n",
              "    .dataframe tbody tr th:only-of-type {\n",
              "        vertical-align: middle;\n",
              "    }\n",
              "\n",
              "    .dataframe tbody tr th {\n",
              "        vertical-align: top;\n",
              "    }\n",
              "\n",
              "    .dataframe thead th {\n",
              "        text-align: right;\n",
              "    }\n",
              "</style>\n",
              "<table border=\"1\" class=\"dataframe\">\n",
              "  <thead>\n",
              "    <tr style=\"text-align: right;\">\n",
              "      <th></th>\n",
              "      <th>title</th>\n",
              "      <th>id</th>\n",
              "      <th>release_date</th>\n",
              "      <th>day</th>\n",
              "      <th>month</th>\n",
              "      <th>year</th>\n",
              "      <th>max_theaters_used</th>\n",
              "      <th>first_day_sales</th>\n",
              "      <th>first_weekend_sales</th>\n",
              "      <th>first_week_sales</th>\n",
              "      <th>...</th>\n",
              "      <th>cast2</th>\n",
              "      <th>cast2_popularity</th>\n",
              "      <th>cast3</th>\n",
              "      <th>cast3_popularity</th>\n",
              "      <th>cast_popularity</th>\n",
              "      <th>genre1</th>\n",
              "      <th>success_abs</th>\n",
              "      <th>success_rel</th>\n",
              "      <th>success_total</th>\n",
              "      <th>hit_or_fail</th>\n",
              "    </tr>\n",
              "    <tr>\n",
              "      <th>global_rank</th>\n",
              "      <th></th>\n",
              "      <th></th>\n",
              "      <th></th>\n",
              "      <th></th>\n",
              "      <th></th>\n",
              "      <th></th>\n",
              "      <th></th>\n",
              "      <th></th>\n",
              "      <th></th>\n",
              "      <th></th>\n",
              "      <th></th>\n",
              "      <th></th>\n",
              "      <th></th>\n",
              "      <th></th>\n",
              "      <th></th>\n",
              "      <th></th>\n",
              "      <th></th>\n",
              "      <th></th>\n",
              "      <th></th>\n",
              "      <th></th>\n",
              "      <th></th>\n",
              "    </tr>\n",
              "  </thead>\n",
              "  <tbody>\n",
              "    <tr>\n",
              "      <th>3.0</th>\n",
              "      <td>Star Wars: Le Réveil de la Force</td>\n",
              "      <td>13345.0</td>\n",
              "      <td>2015-12-16</td>\n",
              "      <td>16.0</td>\n",
              "      <td>12.0</td>\n",
              "      <td>2015.0</td>\n",
              "      <td>1093.0</td>\n",
              "      <td>619020.0</td>\n",
              "      <td>2705096.0</td>\n",
              "      <td>3801235.0</td>\n",
              "      <td>...</td>\n",
              "      <td>NaN</td>\n",
              "      <td>NaN</td>\n",
              "      <td>NaN</td>\n",
              "      <td>NaN</td>\n",
              "      <td>NaN</td>\n",
              "      <td>Action</td>\n",
              "      <td>5</td>\n",
              "      <td>5</td>\n",
              "      <td>10</td>\n",
              "      <td>4</td>\n",
              "    </tr>\n",
              "    <tr>\n",
              "      <th>4.0</th>\n",
              "      <td>Le Roi Lion (2019)</td>\n",
              "      <td>17528.0</td>\n",
              "      <td>2019-07-17</td>\n",
              "      <td>17.0</td>\n",
              "      <td>7.0</td>\n",
              "      <td>2019.0</td>\n",
              "      <td>820.0</td>\n",
              "      <td>630478.0</td>\n",
              "      <td>2559370.0</td>\n",
              "      <td>3252896.0</td>\n",
              "      <td>...</td>\n",
              "      <td>NaN</td>\n",
              "      <td>NaN</td>\n",
              "      <td>NaN</td>\n",
              "      <td>NaN</td>\n",
              "      <td>NaN</td>\n",
              "      <td>Adventure</td>\n",
              "      <td>5</td>\n",
              "      <td>5</td>\n",
              "      <td>10</td>\n",
              "      <td>4</td>\n",
              "    </tr>\n",
              "    <tr>\n",
              "      <th>7.0</th>\n",
              "      <td>La Reine des neiges 2</td>\n",
              "      <td>17530.0</td>\n",
              "      <td>2019-11-20</td>\n",
              "      <td>20.0</td>\n",
              "      <td>11.0</td>\n",
              "      <td>2019.0</td>\n",
              "      <td>1020.0</td>\n",
              "      <td>361818.0</td>\n",
              "      <td>1979782.0</td>\n",
              "      <td>2137267.0</td>\n",
              "      <td>...</td>\n",
              "      <td>NaN</td>\n",
              "      <td>NaN</td>\n",
              "      <td>NaN</td>\n",
              "      <td>NaN</td>\n",
              "      <td>NaN</td>\n",
              "      <td>Family</td>\n",
              "      <td>5</td>\n",
              "      <td>5</td>\n",
              "      <td>10</td>\n",
              "      <td>4</td>\n",
              "    </tr>\n",
              "    <tr>\n",
              "      <th>8.0</th>\n",
              "      <td>Star Wars: Les derniers Jedi</td>\n",
              "      <td>15113.0</td>\n",
              "      <td>2017-12-13</td>\n",
              "      <td>13.0</td>\n",
              "      <td>12.0</td>\n",
              "      <td>2017.0</td>\n",
              "      <td>1027.0</td>\n",
              "      <td>503727.0</td>\n",
              "      <td>2188853.0</td>\n",
              "      <td>2510462.0</td>\n",
              "      <td>...</td>\n",
              "      <td>NaN</td>\n",
              "      <td>NaN</td>\n",
              "      <td>NaN</td>\n",
              "      <td>NaN</td>\n",
              "      <td>NaN</td>\n",
              "      <td>Science Fiction</td>\n",
              "      <td>5</td>\n",
              "      <td>5</td>\n",
              "      <td>10</td>\n",
              "      <td>4</td>\n",
              "    </tr>\n",
              "    <tr>\n",
              "      <th>14.0</th>\n",
              "      <td>Harry Potter et les reliques de la mort - part...</td>\n",
              "      <td>10193.0</td>\n",
              "      <td>2011-07-13</td>\n",
              "      <td>13.0</td>\n",
              "      <td>7.0</td>\n",
              "      <td>2011.0</td>\n",
              "      <td>833.0</td>\n",
              "      <td>732206.0</td>\n",
              "      <td>2532629.0</td>\n",
              "      <td>3129485.0</td>\n",
              "      <td>...</td>\n",
              "      <td>NaN</td>\n",
              "      <td>NaN</td>\n",
              "      <td>NaN</td>\n",
              "      <td>NaN</td>\n",
              "      <td>NaN</td>\n",
              "      <td>Adventure</td>\n",
              "      <td>5</td>\n",
              "      <td>5</td>\n",
              "      <td>10</td>\n",
              "      <td>4</td>\n",
              "    </tr>\n",
              "  </tbody>\n",
              "</table>\n",
              "<p>5 rows × 29 columns</p>\n",
              "</div>\n",
              "      <button class=\"colab-df-convert\" onclick=\"convertToInteractive('df-128a58e5-f611-47bf-9a55-7f067896a091')\"\n",
              "              title=\"Convert this dataframe to an interactive table.\"\n",
              "              style=\"display:none;\">\n",
              "        \n",
              "  <svg xmlns=\"http://www.w3.org/2000/svg\" height=\"24px\"viewBox=\"0 0 24 24\"\n",
              "       width=\"24px\">\n",
              "    <path d=\"M0 0h24v24H0V0z\" fill=\"none\"/>\n",
              "    <path d=\"M18.56 5.44l.94 2.06.94-2.06 2.06-.94-2.06-.94-.94-2.06-.94 2.06-2.06.94zm-11 1L8.5 8.5l.94-2.06 2.06-.94-2.06-.94L8.5 2.5l-.94 2.06-2.06.94zm10 10l.94 2.06.94-2.06 2.06-.94-2.06-.94-.94-2.06-.94 2.06-2.06.94z\"/><path d=\"M17.41 7.96l-1.37-1.37c-.4-.4-.92-.59-1.43-.59-.52 0-1.04.2-1.43.59L10.3 9.45l-7.72 7.72c-.78.78-.78 2.05 0 2.83L4 21.41c.39.39.9.59 1.41.59.51 0 1.02-.2 1.41-.59l7.78-7.78 2.81-2.81c.8-.78.8-2.07 0-2.86zM5.41 20L4 18.59l7.72-7.72 1.47 1.35L5.41 20z\"/>\n",
              "  </svg>\n",
              "      </button>\n",
              "      \n",
              "  <style>\n",
              "    .colab-df-container {\n",
              "      display:flex;\n",
              "      flex-wrap:wrap;\n",
              "      gap: 12px;\n",
              "    }\n",
              "\n",
              "    .colab-df-convert {\n",
              "      background-color: #E8F0FE;\n",
              "      border: none;\n",
              "      border-radius: 50%;\n",
              "      cursor: pointer;\n",
              "      display: none;\n",
              "      fill: #1967D2;\n",
              "      height: 32px;\n",
              "      padding: 0 0 0 0;\n",
              "      width: 32px;\n",
              "    }\n",
              "\n",
              "    .colab-df-convert:hover {\n",
              "      background-color: #E2EBFA;\n",
              "      box-shadow: 0px 1px 2px rgba(60, 64, 67, 0.3), 0px 1px 3px 1px rgba(60, 64, 67, 0.15);\n",
              "      fill: #174EA6;\n",
              "    }\n",
              "\n",
              "    [theme=dark] .colab-df-convert {\n",
              "      background-color: #3B4455;\n",
              "      fill: #D2E3FC;\n",
              "    }\n",
              "\n",
              "    [theme=dark] .colab-df-convert:hover {\n",
              "      background-color: #434B5C;\n",
              "      box-shadow: 0px 1px 3px 1px rgba(0, 0, 0, 0.15);\n",
              "      filter: drop-shadow(0px 1px 2px rgba(0, 0, 0, 0.3));\n",
              "      fill: #FFFFFF;\n",
              "    }\n",
              "  </style>\n",
              "\n",
              "      <script>\n",
              "        const buttonEl =\n",
              "          document.querySelector('#df-128a58e5-f611-47bf-9a55-7f067896a091 button.colab-df-convert');\n",
              "        buttonEl.style.display =\n",
              "          google.colab.kernel.accessAllowed ? 'block' : 'none';\n",
              "\n",
              "        async function convertToInteractive(key) {\n",
              "          const element = document.querySelector('#df-128a58e5-f611-47bf-9a55-7f067896a091');\n",
              "          const dataTable =\n",
              "            await google.colab.kernel.invokeFunction('convertToInteractive',\n",
              "                                                     [key], {});\n",
              "          if (!dataTable) return;\n",
              "\n",
              "          const docLinkHtml = 'Like what you see? Visit the ' +\n",
              "            '<a target=\"_blank\" href=https://colab.research.google.com/notebooks/data_table.ipynb>data table notebook</a>'\n",
              "            + ' to learn more about interactive tables.';\n",
              "          element.innerHTML = '';\n",
              "          dataTable['output_type'] = 'display_data';\n",
              "          await google.colab.output.renderOutput(dataTable, element);\n",
              "          const docLink = document.createElement('div');\n",
              "          docLink.innerHTML = docLinkHtml;\n",
              "          element.appendChild(docLink);\n",
              "        }\n",
              "      </script>\n",
              "    </div>\n",
              "  </div>\n",
              "  "
            ]
          },
          "metadata": {},
          "execution_count": 119
        }
      ],
      "source": [
        "df.loc[(df['title'].str.contains('2')==True)|(df['title'].str.contains('3')==True)|(df['title'].str.contains('4')==True)|(df['title'].str.contains('Star Wars')==True)].head()"
      ]
    },
    {
      "cell_type": "code",
      "execution_count": 120,
      "id": "83f5dd0a",
      "metadata": {
        "id": "83f5dd0a"
      },
      "outputs": [],
      "source": [
        "df['licence']=np.where((df['title'].str.contains('2')==True)|(df['title'].str.contains('3')==True)|(df['title'].str.contains('4')==True)|(df['title'].str.contains('Star Wars')==True),1,0)"
      ]
    },
    {
      "cell_type": "code",
      "execution_count": 121,
      "id": "7537ad2e",
      "metadata": {
        "id": "7537ad2e"
      },
      "outputs": [],
      "source": [
        "#Encode language"
      ]
    },
    {
      "cell_type": "code",
      "source": [
        "df['original_language']"
      ],
      "metadata": {
        "colab": {
          "base_uri": "https://localhost:8080/"
        },
        "id": "gLLY2Ye7JI-Q",
        "outputId": "8883e16d-d550-4c9e-c4d2-843ce90f3d5b"
      },
      "id": "gLLY2Ye7JI-Q",
      "execution_count": 122,
      "outputs": [
        {
          "output_type": "execute_result",
          "data": {
            "text/plain": [
              "global_rank\n",
              "1.0           fr\n",
              "2.0           en\n",
              "3.0           fr\n",
              "4.0           en\n",
              "5.0           fr\n",
              "           ...  \n",
              "3954.0        en\n",
              "3955.0        en\n",
              "3956.0        en\n",
              "3957.0        fr\n",
              "3959.0    others\n",
              "Name: original_language, Length: 3958, dtype: object"
            ]
          },
          "metadata": {},
          "execution_count": 122
        }
      ]
    },
    {
      "cell_type": "code",
      "source": [
        "df_dummies=pd.get_dummies(df,columns=['original_language'],prefix='lang')"
      ],
      "metadata": {
        "id": "-bzx2fJ6KCGA"
      },
      "id": "-bzx2fJ6KCGA",
      "execution_count": 123,
      "outputs": []
    },
    {
      "cell_type": "code",
      "source": [
        "df_dummies.columns"
      ],
      "metadata": {
        "colab": {
          "base_uri": "https://localhost:8080/"
        },
        "id": "To2U1wi4KRGW",
        "outputId": "411e9b54-b764-4fb1-8177-58c6e6467679"
      },
      "id": "To2U1wi4KRGW",
      "execution_count": 124,
      "outputs": [
        {
          "output_type": "execute_result",
          "data": {
            "text/plain": [
              "Index(['title', 'id', 'release_date', 'day', 'month', 'year',\n",
              "       'max_theaters_used', 'first_day_sales', 'first_weekend_sales',\n",
              "       'first_week_sales', 'total_sales', 'viewers_by_theaters', 'tmdb_id',\n",
              "       'budget', 'imdb_id', 'tagline', 'cast1', 'cast1_popularity', 'cast2',\n",
              "       'cast2_popularity', 'cast3', 'cast3_popularity', 'cast_popularity',\n",
              "       'genre1', 'success_abs', 'success_rel', 'success_total', 'hit_or_fail',\n",
              "       'licence', 'lang_en', 'lang_fr', 'lang_others'],\n",
              "      dtype='object')"
            ]
          },
          "metadata": {},
          "execution_count": 124
        }
      ]
    },
    {
      "cell_type": "code",
      "source": [
        "#Let's encode genres the same way \n",
        "major_genres=['Comedy','Drama','Action','Animation','Thriller']\n",
        "df_dummies['genre1']=df_dummies['genre1'].apply(lambda x: 'others' if x not in major_genres else x)"
      ],
      "metadata": {
        "id": "BaZQOEKUJmeZ"
      },
      "id": "BaZQOEKUJmeZ",
      "execution_count": 125,
      "outputs": []
    },
    {
      "cell_type": "code",
      "source": [
        "df_dummies=pd.get_dummies(df_dummies,columns=['genre1'],prefix='genre')"
      ],
      "metadata": {
        "id": "gH6fmk_QJrMt"
      },
      "id": "gH6fmk_QJrMt",
      "execution_count": 126,
      "outputs": []
    },
    {
      "cell_type": "code",
      "source": [
        "#Quarter to encode for release date\n",
        "#First with Q1,Q2..., then get_dummies"
      ],
      "metadata": {
        "id": "n6QUu_lpX4tU"
      },
      "id": "n6QUu_lpX4tU",
      "execution_count": 127,
      "outputs": []
    },
    {
      "cell_type": "code",
      "source": [
        "bin_labels_q =[1,2,3,4]\n",
        "\n",
        "df_dummies['quarter']=pd.qcut(df_dummies['month'], q=4, labels=bin_labels_q)"
      ],
      "metadata": {
        "id": "qwSJZ4A9ZD76"
      },
      "id": "qwSJZ4A9ZD76",
      "execution_count": 128,
      "outputs": []
    },
    {
      "cell_type": "code",
      "source": [
        "df_dummies=pd.get_dummies(df_dummies,columns=['quarter'],prefix='Q')"
      ],
      "metadata": {
        "id": "snv6v0I3idkt"
      },
      "id": "snv6v0I3idkt",
      "execution_count": 129,
      "outputs": []
    },
    {
      "cell_type": "code",
      "source": [
        "#FEATURES SELECTION"
      ],
      "metadata": {
        "id": "8V0A58cQj5sd"
      },
      "id": "8V0A58cQj5sd",
      "execution_count": 130,
      "outputs": []
    },
    {
      "cell_type": "code",
      "source": [
        "df_dummies.columns"
      ],
      "metadata": {
        "colab": {
          "base_uri": "https://localhost:8080/"
        },
        "id": "5092K-vZkBRW",
        "outputId": "52069f50-6d5b-4539-fc66-c34906f119b1"
      },
      "id": "5092K-vZkBRW",
      "execution_count": 131,
      "outputs": [
        {
          "output_type": "execute_result",
          "data": {
            "text/plain": [
              "Index(['title', 'id', 'release_date', 'day', 'month', 'year',\n",
              "       'max_theaters_used', 'first_day_sales', 'first_weekend_sales',\n",
              "       'first_week_sales', 'total_sales', 'viewers_by_theaters', 'tmdb_id',\n",
              "       'budget', 'imdb_id', 'tagline', 'cast1', 'cast1_popularity', 'cast2',\n",
              "       'cast2_popularity', 'cast3', 'cast3_popularity', 'cast_popularity',\n",
              "       'success_abs', 'success_rel', 'success_total', 'hit_or_fail', 'licence',\n",
              "       'lang_en', 'lang_fr', 'lang_others', 'genre_Action', 'genre_Animation',\n",
              "       'genre_Comedy', 'genre_Drama', 'genre_Thriller', 'genre_others', 'Q_1',\n",
              "       'Q_2', 'Q_3', 'Q_4'],\n",
              "      dtype='object')"
            ]
          },
          "metadata": {},
          "execution_count": 131
        }
      ]
    },
    {
      "cell_type": "code",
      "source": [
        "df_dummies.to_csv('dataset_dummies2.csv')"
      ],
      "metadata": {
        "id": "Npxs-d4pmrKz"
      },
      "id": "Npxs-d4pmrKz",
      "execution_count": 132,
      "outputs": []
    }
  ],
  "metadata": {
    "kernelspec": {
      "display_name": "Python 3",
      "language": "python",
      "name": "python3"
    },
    "language_info": {
      "codemirror_mode": {
        "name": "ipython",
        "version": 3
      },
      "file_extension": ".py",
      "mimetype": "text/x-python",
      "name": "python",
      "nbconvert_exporter": "python",
      "pygments_lexer": "ipython3",
      "version": "3.8.8"
    },
    "colab": {
      "name": "Encoding Data DS.ipynb",
      "provenance": []
    }
  },
  "nbformat": 4,
  "nbformat_minor": 5
}