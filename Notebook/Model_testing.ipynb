{
  "nbformat": 4,
  "nbformat_minor": 0,
  "metadata": {
    "colab": {
      "name": "Copie de Model testing.ipynb",
      "provenance": [],
      "collapsed_sections": []
    },
    "kernelspec": {
      "name": "python3",
      "display_name": "Python 3"
    },
    "language_info": {
      "name": "python"
    }
  },
  "cells": [
    {
      "cell_type": "code",
      "execution_count": 52,
      "metadata": {
        "id": "B3Jl6Cp7pabm"
      },
      "outputs": [],
      "source": [
        "import pandas as pd\n",
        "import numpy as np\n",
        "import matplotlib.pyplot as plt\n",
        "import seaborn as sns"
      ]
    },
    {
      "cell_type": "code",
      "source": [
        "df=pd.read_csv('dataset_dummies2.csv')"
      ],
      "metadata": {
        "id": "q7hZtY_7pfXx"
      },
      "execution_count": 53,
      "outputs": []
    },
    {
      "cell_type": "code",
      "source": [
        "df.columns"
      ],
      "metadata": {
        "colab": {
          "base_uri": "https://localhost:8080/"
        },
        "id": "_6JPuFXwptgV",
        "outputId": "05cc57b4-74f1-4805-9b99-83c0fce4ed26"
      },
      "execution_count": 54,
      "outputs": [
        {
          "output_type": "execute_result",
          "data": {
            "text/plain": [
              "Index(['global_rank', 'title', 'id', 'release_date', 'day', 'month', 'year',\n",
              "       'max_theaters_used', 'first_day_sales', 'first_weekend_sales',\n",
              "       'first_week_sales', 'total_sales', 'viewers_by_theaters', 'tmdb_id',\n",
              "       'budget', 'imdb_id', 'tagline', 'cast1', 'cast1_popularity', 'cast2',\n",
              "       'cast2_popularity', 'cast3', 'cast3_popularity', 'cast_popularity',\n",
              "       'success_abs', 'success_rel', 'success_total', 'hit_or_fail', 'licence',\n",
              "       'lang_en', 'lang_fr', 'lang_others', 'genre_Action', 'genre_Animation',\n",
              "       'genre_Comedy', 'genre_Drama', 'genre_Thriller', 'genre_others', 'Q_1',\n",
              "       'Q_2', 'Q_3', 'Q_4'],\n",
              "      dtype='object')"
            ]
          },
          "metadata": {},
          "execution_count": 54
        }
      ]
    },
    {
      "cell_type": "code",
      "source": [
        "X= df[['max_theaters_used','budget','licence', 'lang_en', 'lang_fr', 'lang_others', 'genre_Action', 'genre_Animation', 'genre_Comedy', 'genre_Drama', 'genre_Thriller', 'genre_others', 'Q_1', 'Q_2', 'Q_3', 'Q_4']]\n",
        "y= df['hit_or_fail']"
      ],
      "metadata": {
        "id": "i-JgRsn8pwZg"
      },
      "execution_count": 55,
      "outputs": []
    },
    {
      "cell_type": "code",
      "source": [
        "\n",
        "fig, ax = plt.subplots(figsize=(6,6))\n",
        "sns.heatmap(X.corr())\n",
        "plt.title('Heatmap for feature selection')\n",
        "plt.show()"
      ],
      "metadata": {
        "colab": {
          "base_uri": "https://localhost:8080/",
          "height": 478
        },
        "id": "PAi0Sf8FqDrE",
        "outputId": "c7bd97de-a707-460d-c65d-eb73c8f3a058"
      },
      "execution_count": 56,
      "outputs": [
        {
          "output_type": "display_data",
          "data": {
            "text/plain": [
              "<Figure size 432x432 with 2 Axes>"
            ],
            "image/png": "[encoded data removed]"
          },
          "metadata": {
            "needs_background": "light"
          }
        }
      ]
    },
    {
      "cell_type": "code",
      "source": [
        "from locale import normalize\n",
        "import re\n",
        "from sklearn.metrics import accuracy_score, recall_score, precision_score, roc_auc_score, roc_curve, confusion_matrix, ConfusionMatrixDisplay\n",
        "import matplotlib.pyplot as plt\n",
        "from sklearn.model_selection import GridSearchCV\n",
        "\n",
        "# SYNTHESIS FUNCTION\n",
        "def synthetise(model, X_train, X_test, y_train, y_test):\n",
        "    y_train_pred = model.predict(X_train)\n",
        "    y_test_pred = model.predict(X_test)\n",
        "    y_train_score = model.predict_proba(X_train)\n",
        "    y_test_score = model.predict_proba(X_test)\n",
        "    model_name = type(model).__name__\n",
        "    print(re.sub(r\"(\\w)([A-Z])\", r\"\\1 \\2\", model_name).upper())\n",
        "    print('====================')\n",
        "    print('TRAIN dataset')\n",
        "    print(f'Accuracy score: {accuracy_score(y_train, y_train_pred):.1%}')\n",
        "    print(f'Recall score (macro): {recall_score(y_train, y_train_pred, average=\"macro\"):.1%}')\n",
        "    print(f'Precision score (macro): {precision_score(y_train, y_train_pred, average=\"macro\"):.1%}')\n",
        "    print(f'ROC_AUC score (macro): {roc_auc_score(y_train, y_train_score, average=\"macro\", multi_class=\"ovo\"):.1%}')\n",
        "    print('====================')\n",
        "    print('TEST dataset')\n",
        "    print(f'Accuracy score: {accuracy_score(y_test, y_test_pred):.1%}')\n",
        "    print(f'Recall score (macro): {recall_score(y_test, y_test_pred, average=\"macro\"):.1%}')\n",
        "    print(f'Precision score (macro): {precision_score(y_test, y_test_pred, average=\"macro\"):.1%}')\n",
        "    print(f'ROC_AUC score (macro): {roc_auc_score(y_test, y_test_score, average=\"macro\", multi_class=\"ovo\"):.1%}')\n",
        "    print(f'\\n')\n",
        "\n",
        "    fig, axs = plt.subplots(1,2, figsize = (12,8))\n",
        "    ConfusionMatrixDisplay.from_predictions(y_train, y_train_pred, ax = axs[0], cmap = 'Blues', colorbar = False, normalize='all', values_format = '.1%')\n",
        "    axs[0].set_title('Confusion matrix for TRAIN dataset')\n",
        "    ConfusionMatrixDisplay.from_predictions(y_test, y_test_pred, ax = axs[1], cmap = 'Blues', colorbar = False, normalize='all', values_format = '.1%')\n",
        "    axs[1].set_title('Confusion matrix for TEST dataset')\n",
        "    fig.tight_layout()\n",
        "    fig.show()"
      ],
      "metadata": {
        "id": "-qJwiLVcZk5z"
      },
      "execution_count": 76,
      "outputs": []
    },
    {
      "cell_type": "code",
      "source": [
        "from sklearn.model_selection import train_test_split\n",
        "X_train, X_test, y_train, y_test = train_test_split( X, y, test_size=0.2, random_state=42)"
      ],
      "metadata": {
        "id": "cHXds59AqL3E"
      },
      "execution_count": 57,
      "outputs": []
    },
    {
      "cell_type": "code",
      "source": [
        "from sklearn.ensemble import RandomForestClassifier\n",
        "clf = RandomForestClassifier(max_depth=2, random_state=0)\n",
        "clf.fit(X_train, y_train)"
      ],
      "metadata": {
        "id": "5xvwLhrmqNZB",
        "colab": {
          "base_uri": "https://localhost:8080/"
        },
        "outputId": "8b8cb6ea-7b6b-443a-d91c-47125e4537b2"
      },
      "execution_count": 58,
      "outputs": [
        {
          "output_type": "execute_result",
          "data": {
            "text/plain": [
              "RandomForestClassifier(max_depth=2, random_state=0)"
            ]
          },
          "metadata": {},
          "execution_count": 58
        }
      ]
    },
    {
      "cell_type": "code",
      "source": [
        "from sklearn.metrics import accuracy_score\n",
        "a= clf.predict(X_test)\n",
        "acc=accuracy_score(y_test,a)\n",
        "\n",
        "acc"
      ],
      "metadata": {
        "colab": {
          "base_uri": "https://localhost:8080/"
        },
        "id": "8jLqGtPMuWcl",
        "outputId": "a56d7637-b5f8-4505-983f-ea441de3b310"
      },
      "execution_count": 59,
      "outputs": [
        {
          "output_type": "execute_result",
          "data": {
            "text/plain": [
              "0.4861111111111111"
            ]
          },
          "metadata": {},
          "execution_count": 59
        }
      ]
    },
    {
      "cell_type": "code",
      "source": [
        "from sklearn import metrics\n",
        "from sklearn.metrics import confusion_matrix\n",
        "\n",
        "def evaluate(model, test_features, test_labels):\n",
        "    y_pred = model.predict(test_features)\n",
        "    accuracy = metrics.accuracy_score(y_test, y_pred)\n",
        "    print (accuracy)\n",
        "    print(confusion_matrix(y_test,y_pred))\n",
        "    \n",
        "\n",
        "#best_random = rf_random.best_estimator_\n",
        "#evaluate(best_random, x_test, y_test)"
      ],
      "metadata": {
        "id": "k8-WnmxuvWkS"
      },
      "execution_count": 60,
      "outputs": []
    },
    {
      "cell_type": "code",
      "source": [
        "from sklearn.ensemble import RandomForestClassifier\n",
        "\n",
        "model = RandomForestClassifier(n_estimators=10, criterion='gini', min_samples_split=5, min_samples_leaf=2, max_features='auto', bootstrap=True, n_jobs=-1, random_state=42)\n",
        "model.fit(X_train,y_train)\n",
        "y_pred = model.predict(X_test)"
      ],
      "metadata": {
        "id": "5XuSFOuIMX3j"
      },
      "execution_count": 61,
      "outputs": []
    },
    {
      "cell_type": "code",
      "source": [
        "from sklearn.metrics import confusion_matrix\n",
        "print(confusion_matrix(y_test, y_pred))\n",
        "from sklearn import metrics\n",
        "print(metrics.accuracy_score(y_test, y_pred))"
      ],
      "metadata": {
        "colab": {
          "base_uri": "https://localhost:8080/"
        },
        "id": "CgW3FIpYMiiV",
        "outputId": "00290cda-b2ce-4f24-8a86-0343598621ba"
      },
      "execution_count": 62,
      "outputs": [
        {
          "output_type": "stream",
          "name": "stdout",
          "text": [
            "[[167  41  23   5]\n",
            " [ 79  66  27  11]\n",
            " [ 51  45  66  26]\n",
            " [  7  10  30 138]]\n",
            "0.5517676767676768\n"
          ]
        }
      ]
    },
    {
      "cell_type": "code",
      "source": [
        "from sklearn.model_selection import RandomizedSearchCV\n",
        "\n",
        "# Number of trees in random forest\n",
        "n_estimators = [int(x) for x in range(2,20,2)]\n",
        "# Number of features to consider at every split\n",
        "max_features = ['auto', 'sqrt']\n",
        "# Maximum number of levels in tree\n",
        "max_depth = [int(x) for x in np.linspace(10, 110, num = 11)]\n",
        "max_depth.append(None)\n",
        "# Minimum number of samples required to split a node\n",
        "min_samples_split = [2, 5, 10]\n",
        "# Minimum number of samples required at each leaf node\n",
        "min_samples_leaf = [1, 2, 4]\n",
        "# Method of selecting samples for training each tree\n",
        "bootstrap = [True, False]\n",
        "# Create the random grid\n",
        "random_grid = {'n_estimators': n_estimators,\n",
        "               'max_features': max_features,\n",
        "               'max_depth': max_depth,\n",
        "               'min_samples_split': min_samples_split,\n",
        "               'min_samples_leaf': min_samples_leaf,\n",
        "               'bootstrap': bootstrap}\n",
        "print(random_grid)"
      ],
      "metadata": {
        "colab": {
          "base_uri": "https://localhost:8080/"
        },
        "id": "00472oZbMpZ9",
        "outputId": "39ef9a79-52c5-426c-e413-ff4bb7339630"
      },
      "execution_count": 63,
      "outputs": [
        {
          "output_type": "stream",
          "name": "stdout",
          "text": [
            "{'n_estimators': [2, 4, 6, 8, 10, 12, 14, 16, 18], 'max_features': ['auto', 'sqrt'], 'max_depth': [10, 20, 30, 40, 50, 60, 70, 80, 90, 100, 110, None], 'min_samples_split': [2, 5, 10], 'min_samples_leaf': [1, 2, 4], 'bootstrap': [True, False]}\n"
          ]
        }
      ]
    },
    {
      "cell_type": "code",
      "source": [
        "rf = RandomForestClassifier()\n",
        "# Random search of parameters, using 3 fold cross validation, \n",
        "# search across 100 different combinations, and use all available cores\n",
        "rf_random = RandomizedSearchCV(estimator = rf, param_distributions = random_grid, n_iter = 100, cv = 3, verbose=2, random_state=42, n_jobs = -1)\n",
        "# Fit the random search model\n",
        "rf_random.fit(X_train, y_train)"
      ],
      "metadata": {
        "colab": {
          "base_uri": "https://localhost:8080/"
        },
        "id": "cXRd4-8DM5Nj",
        "outputId": "3d5276b5-8348-4ec2-8af1-8403beef4dc8"
      },
      "execution_count": 64,
      "outputs": [
        {
          "output_type": "stream",
          "name": "stdout",
          "text": [
            "Fitting 3 folds for each of 100 candidates, totalling 300 fits\n"
          ]
        },
        {
          "output_type": "execute_result",
          "data": {
            "text/plain": [
              "RandomizedSearchCV(cv=3, estimator=RandomForestClassifier(), n_iter=100,\n",
              "                   n_jobs=-1,\n",
              "                   param_distributions={'bootstrap': [True, False],\n",
              "                                        'max_depth': [10, 20, 30, 40, 50, 60,\n",
              "                                                      70, 80, 90, 100, 110,\n",
              "                                                      None],\n",
              "                                        'max_features': ['auto', 'sqrt'],\n",
              "                                        'min_samples_leaf': [1, 2, 4],\n",
              "                                        'min_samples_split': [2, 5, 10],\n",
              "                                        'n_estimators': [2, 4, 6, 8, 10, 12, 14,\n",
              "                                                         16, 18]},\n",
              "                   random_state=42, verbose=2)"
            ]
          },
          "metadata": {},
          "execution_count": 64
        }
      ]
    },
    {
      "cell_type": "code",
      "source": [
        "rf_random.best_params_"
      ],
      "metadata": {
        "colab": {
          "base_uri": "https://localhost:8080/"
        },
        "id": "rUdmfh57M5Fn",
        "outputId": "80286af6-9162-4764-afda-66cba39310ee"
      },
      "execution_count": 65,
      "outputs": [
        {
          "output_type": "execute_result",
          "data": {
            "text/plain": [
              "{'bootstrap': True,\n",
              " 'max_depth': 70,\n",
              " 'max_features': 'auto',\n",
              " 'min_samples_leaf': 4,\n",
              " 'min_samples_split': 2,\n",
              " 'n_estimators': 14}"
            ]
          },
          "metadata": {},
          "execution_count": 65
        }
      ]
    },
    {
      "cell_type": "code",
      "source": [
        "from sklearn import metrics\n",
        "\n",
        "def evaluate(model, test_features, test_labels):\n",
        "    y_pred = model.predict(test_features)\n",
        "    accuracy = metrics.accuracy_score(y_test, y_pred)\n",
        "    print (accuracy)\n",
        "    print(confusion_matrix(y_test,y_pred))\n",
        "    \n",
        "\n",
        "best_random = rf_random.best_estimator_\n",
        "evaluate(best_random, X_test, y_test)"
      ],
      "metadata": {
        "colab": {
          "base_uri": "https://localhost:8080/"
        },
        "id": "IlHRxqafNbWq",
        "outputId": "22a57da1-30fe-4003-cfb0-2505086d7d8e"
      },
      "execution_count": 66,
      "outputs": [
        {
          "output_type": "stream",
          "name": "stdout",
          "text": [
            "0.5467171717171717\n",
            "[[170  45  18   3]\n",
            " [ 92  52  29  10]\n",
            " [ 56  36  72  24]\n",
            " [  3  10  33 139]]\n"
          ]
        }
      ]
    },
    {
      "cell_type": "code",
      "source": [
        "from sklearn.model_selection import GridSearchCV\n",
        "\n",
        "# Create the parameter grid based on the results of random search \n",
        "param_grid = {\n",
        "    'bootstrap': [True],\n",
        "    'max_depth': [110],\n",
        "    'max_features': ['sqrt'],\n",
        "    'min_samples_leaf': [4],\n",
        "    'min_samples_split': [10],\n",
        "    'n_estimators': [12]\n",
        "}\n",
        "# Create a based model\n",
        "rf = RandomForestClassifier()\n",
        "# Instantiate the grid search model\n",
        "grid_search = GridSearchCV(estimator = rf, param_grid = param_grid, \n",
        "                          cv = 3, n_jobs = -1, verbose = 2)\n",
        "\n",
        "# Fit the grid search to the data\n",
        "grid_search.fit(X_train,y_train)"
      ],
      "metadata": {
        "colab": {
          "base_uri": "https://localhost:8080/"
        },
        "id": "nc6HLSMzNjtv",
        "outputId": "974a734f-4607-4cd0-bf5e-37b2e36e6662"
      },
      "execution_count": 67,
      "outputs": [
        {
          "output_type": "stream",
          "name": "stdout",
          "text": [
            "Fitting 3 folds for each of 1 candidates, totalling 3 fits\n"
          ]
        },
        {
          "output_type": "execute_result",
          "data": {
            "text/plain": [
              "GridSearchCV(cv=3, estimator=RandomForestClassifier(), n_jobs=-1,\n",
              "             param_grid={'bootstrap': [True], 'max_depth': [110],\n",
              "                         'max_features': ['sqrt'], 'min_samples_leaf': [4],\n",
              "                         'min_samples_split': [10], 'n_estimators': [12]},\n",
              "             verbose=2)"
            ]
          },
          "metadata": {},
          "execution_count": 67
        }
      ]
    },
    {
      "cell_type": "code",
      "source": [
        "grid_search.best_params_"
      ],
      "metadata": {
        "colab": {
          "base_uri": "https://localhost:8080/"
        },
        "id": "O__eYfNDN4Q3",
        "outputId": "982bfb02-1a1b-4fa9-84f3-d5098ba8a1a5"
      },
      "execution_count": 68,
      "outputs": [
        {
          "output_type": "execute_result",
          "data": {
            "text/plain": [
              "{'bootstrap': True,\n",
              " 'max_depth': 110,\n",
              " 'max_features': 'sqrt',\n",
              " 'min_samples_leaf': 4,\n",
              " 'min_samples_split': 10,\n",
              " 'n_estimators': 12}"
            ]
          },
          "metadata": {},
          "execution_count": 68
        }
      ]
    },
    {
      "cell_type": "code",
      "source": [
        "best_grid = grid_search.best_estimator_\n",
        "evaluate(best_grid,X_test,y_test)"
      ],
      "metadata": {
        "colab": {
          "base_uri": "https://localhost:8080/"
        },
        "id": "oPCb1m94N7yv",
        "outputId": "c31f5722-5ccb-49fb-9ac5-2f3e967feccf"
      },
      "execution_count": 69,
      "outputs": [
        {
          "output_type": "stream",
          "name": "stdout",
          "text": [
            "0.5429292929292929\n",
            "[[179  34  19   4]\n",
            " [ 93  49  29  12]\n",
            " [ 60  31  66  31]\n",
            " [  3   9  37 136]]\n"
          ]
        }
      ]
    },
    {
      "cell_type": "code",
      "source": [
        "from tpot import TPOTClassifier"
      ],
      "metadata": {
        "id": "2c5fUf3dSqjb"
      },
      "execution_count": 71,
      "outputs": []
    },
    {
      "cell_type": "code",
      "source": [
        "#tpot = TPOTClassifier(generations=5, population_size=50, verbosity=3)\n",
        "#tpot.fit(X_train, y_train)\n",
        "#print(tpot.score(X_test, y_test))\n",
        "#tpot.export(r'C:\\Users\\lenovo\\tpot_digits_pipeline.py')"
      ],
      "metadata": {
        "id": "K4Z5KDDVSrfY"
      },
      "execution_count": 73,
      "outputs": []
    },
    {
      "cell_type": "code",
      "source": [
        "#KNEIGHBOR CLASSIFIERS TESTING"
      ],
      "metadata": {
        "id": "eRH8m9jaY6W8"
      },
      "execution_count": null,
      "outputs": []
    },
    {
      "cell_type": "code",
      "source": [
        "from sklearn.neighbors import KNeighborsClassifier\n",
        "neigh = KNeighborsClassifier(n_neighbors=4)\n",
        "neigh.fit(X_train, y_train)"
      ],
      "metadata": {
        "colab": {
          "base_uri": "https://localhost:8080/"
        },
        "id": "in52H5kEZAoj",
        "outputId": "f2c74cbb-9486-448e-f425-f1bdb819a83e"
      },
      "execution_count": 74,
      "outputs": [
        {
          "output_type": "execute_result",
          "data": {
            "text/plain": [
              "KNeighborsClassifier(n_neighbors=4)"
            ]
          },
          "metadata": {},
          "execution_count": 74
        }
      ]
    },
    {
      "cell_type": "code",
      "source": [
        "synthetise(neigh,X_train,X_test,y_train,y_test)"
      ],
      "metadata": {
        "colab": {
          "base_uri": "https://localhost:8080/",
          "height": 727
        },
        "id": "KNjtLsnSZqcl",
        "outputId": "4773df62-c05f-46f1-eec6-bdfe94056969"
      },
      "execution_count": 78,
      "outputs": [
        {
          "output_type": "stream",
          "name": "stdout",
          "text": [
            "K NEIGHBORS CLASSIFIER\n",
            "====================\n",
            "TRAIN dataset\n",
            "Accuracy score: 73.8%\n",
            "Recall score (macro): 71.7%\n",
            "Precision score (macro): 74.3%\n",
            "ROC_AUC score (macro): 94.0%\n",
            "====================\n",
            "TEST dataset\n",
            "Accuracy score: 62.6%\n",
            "Recall score (macro): 61.4%\n",
            "Precision score (macro): 64.2%\n",
            "ROC_AUC score (macro): 83.0%\n",
            "\n",
            "\n"
          ]
        },
        {
          "output_type": "display_data",
          "data": {
            "text/plain": [
              "<Figure size 864x576 with 2 Axes>"
            ],
            "image/png": "[encoded data removed]"
          },
          "metadata": {
            "needs_background": "light"
          }
        }
      ]
    },
    {
      "cell_type": "code",
      "source": [
        "plt.scatter(df['max_theaters_used'],df['total_sales'],c=df['hit_or_fail'])"
      ],
      "metadata": {
        "colab": {
          "base_uri": "https://localhost:8080/",
          "height": 293
        },
        "id": "_aKodLeYlECK",
        "outputId": "e6f1ecc2-90bc-4ded-bfd7-89cbc677ec62"
      },
      "execution_count": 116,
      "outputs": [
        {
          "output_type": "execute_result",
          "data": {
            "text/plain": [
              "<matplotlib.collections.PathCollection at 0x7f02bd89ff50>"
            ]
          },
          "metadata": {},
          "execution_count": 116
        },
        {
          "output_type": "display_data",
          "data": {
            "text/plain": [
              "<Figure size 432x288 with 1 Axes>"
            ],
            "image/png": "[encoded data removed]"
          },
          "metadata": {
            "needs_background": "light"
          }
        }
      ]
    },
    {
      "cell_type": "code",
      "source": [
        ""
      ],
      "metadata": {
        "id": "njAPftvulQo6"
      },
      "execution_count": null,
      "outputs": []
    }
  ]
}